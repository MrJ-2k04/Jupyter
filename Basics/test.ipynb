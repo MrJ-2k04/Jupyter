{
 "cells": [
  {
   "cell_type": "code",
   "execution_count": 138,
   "metadata": {},
   "outputs": [],
   "source": [
    "import numpy as np\n",
    "\n",
    "a = np.array([1,2,3,4])                               # 1 dim array\n",
    "b = np.zeros(4)                                       # 1 dim array of zeroes\n",
    "c = np.zeros(shape=(3,3))                             # 2 dim array of zeroes with shape (3,3)\n",
    "d = np.ones(shape=(2,5,4))                            # 3 dim array of ones with shape (2,5)\n",
    "e = np.eye(20)                                        # 2 dim array with shape (20,20) (identity matrix)\n",
    "f = np.array([[1,0,2], [2,3,6]])                      # 2 dim array with shape(2,3)\n",
    "g = np.random.randint(low=-3, high=25, size=(3,7))    # 2 dim array with shape(3,7) populated with random integers\n",
    "h = np.empty(shape=(10,4))"
   ]
  },
  {
   "cell_type": "code",
   "execution_count": 169,
   "metadata": {},
   "outputs": [
    {
     "name": "stdout",
     "output_type": "stream",
     "text": [
      "[[[4 4]\n",
      "  [3 1]\n",
      "  [8 6]\n",
      "  [5 3]\n",
      "  [3 5]]\n",
      "\n",
      " [[7 5]\n",
      "  [4 7]\n",
      "  [9 2]\n",
      "  [1 7]\n",
      "  [3 8]]]\n"
     ]
    }
   ],
   "source": [
    "rand  = np.random.randint(1, 10, (4, 5))\n",
    "rand = rand.reshape(2, 5, 2)\n",
    "print(rand)\n",
    "\n"
   ]
  },
  {
   "cell_type": "code",
   "execution_count": 181,
   "metadata": {},
   "outputs": [
    {
     "name": "stdout",
     "output_type": "stream",
     "text": [
      "[[11  9]\n",
      " [ 7  8]\n",
      " [17  8]\n",
      " [ 6 10]\n",
      " [ 6 13]]\n"
     ]
    }
   ],
   "source": [
    "m = rand.sum(axis=0)\n",
    "print(m)"
   ]
  },
  {
   "cell_type": "code",
   "execution_count": 182,
   "metadata": {},
   "outputs": [
    {
     "name": "stdout",
     "output_type": "stream",
     "text": [
      "[[1. 0. 0. 0. 0.]\n",
      " [0. 1. 0. 0. 0.]\n",
      " [0. 0. 1. 0. 0.]\n",
      " [0. 0. 0. 1. 0.]\n",
      " [0. 0. 0. 0. 1.]]\n"
     ]
    }
   ],
   "source": [
    "eye = np.eye(5)\n",
    "print(eye)"
   ]
  },
  {
   "cell_type": "code",
   "execution_count": 205,
   "metadata": {},
   "outputs": [
    {
     "name": "stdout",
     "output_type": "stream",
     "text": [
      "[[1 2 3 4]\n",
      " [5 6 7 8]]\n",
      "[[ 9 10 11 12]\n",
      " [13 14 15 16]]\n",
      "[[ 1  2  3  4]\n",
      " [ 5  6  7  8]\n",
      " [ 9 10 11 12]\n",
      " [13 14 15 16]]\n"
     ]
    }
   ],
   "source": [
    "m1 = np.array(range(1, 9)).reshape(-1, 4)\n",
    "m2 = np.array(range(9, 17)).reshape(-1, 4)\n",
    "m3 = np.array([1,2,3,4])\n",
    "\n",
    "# print(m1, m2)\n",
    "x = np.concatenate((m1, m2), axis=0)\n",
    "print(m1)\n",
    "print(m2)\n",
    "\n",
    "print(x)"
   ]
  }
 ],
 "metadata": {
  "kernelspec": {
   "display_name": "Python 3",
   "language": "python",
   "name": "python3"
  },
  "language_info": {
   "codemirror_mode": {
    "name": "ipython",
    "version": 3
   },
   "file_extension": ".py",
   "mimetype": "text/x-python",
   "name": "python",
   "nbconvert_exporter": "python",
   "pygments_lexer": "ipython3",
   "version": "3.10.5"
  }
 },
 "nbformat": 4,
 "nbformat_minor": 2
}

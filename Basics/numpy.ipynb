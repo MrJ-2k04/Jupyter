{
 "cells": [
  {
   "cell_type": "code",
   "execution_count": 2,
   "metadata": {},
   "outputs": [],
   "source": [
    "import numpy as np\n",
    "\n",
    "a = np.array([1,2,3,4])                               # 1 dim array\n",
    "b = np.zeros(4)                                       # 1 dim array of zeroes\n",
    "c = np.zeros(shape=(3,3))                             # 2 dim array of zeroes with shape (3,3)\n",
    "d = np.ones(shape=(2,5,4))                            # 3 dim array of ones with shape (2,5)\n",
    "e = np.eye(20)                                        # 2 dim array with shape (20,20) (identity matrix)\n",
    "f = np.array([[1,0,2], [2,3,6]])                      # 2 dim array with shape(2,3)\n",
    "g = np.random.randint(low=-3, high=25, size=(3,7))    # 2 dim array with shape(3,7) populated with random integers\n",
    "h = np.empty(shape=(10,4))"
   ]
  },
  {
   "cell_type": "code",
   "execution_count": 3,
   "metadata": {},
   "outputs": [
    {
     "name": "stdout",
     "output_type": "stream",
     "text": [
      "[[[8 4]\n",
      "  [4 6]\n",
      "  [3 4]\n",
      "  [4 5]\n",
      "  [5 2]]\n",
      "\n",
      " [[3 8]\n",
      "  [6 3]\n",
      "  [6 7]\n",
      "  [4 8]\n",
      "  [8 1]]]\n"
     ]
    }
   ],
   "source": [
    "rand  = np.random.randint(1, 10, (4, 5))\n",
    "rand = rand.reshape(2, 5, 2)\n",
    "print(rand)\n",
    "\n"
   ]
  },
  {
   "cell_type": "code",
   "execution_count": 4,
   "metadata": {},
   "outputs": [
    {
     "name": "stdout",
     "output_type": "stream",
     "text": [
      "[[11 12]\n",
      " [10  9]\n",
      " [ 9 11]\n",
      " [ 8 13]\n",
      " [13  3]]\n"
     ]
    }
   ],
   "source": [
    "m = rand.sum(axis=0)\n",
    "print(m)"
   ]
  },
  {
   "cell_type": "code",
   "execution_count": 5,
   "metadata": {},
   "outputs": [
    {
     "name": "stdout",
     "output_type": "stream",
     "text": [
      "[[1. 0. 0. 0. 0.]\n",
      " [0. 1. 0. 0. 0.]\n",
      " [0. 0. 1. 0. 0.]\n",
      " [0. 0. 0. 1. 0.]\n",
      " [0. 0. 0. 0. 1.]]\n"
     ]
    }
   ],
   "source": [
    "eye = np.eye(5)\n",
    "print(eye)"
   ]
  },
  {
   "cell_type": "code",
   "execution_count": 6,
   "metadata": {},
   "outputs": [
    {
     "name": "stdout",
     "output_type": "stream",
     "text": [
      "[[1 2 3 4]\n",
      " [5 6 7 8]]\n",
      "[[ 9 10 11 12]\n",
      " [13 14 15 16]]\n",
      "[[ 1  2  3  4]\n",
      " [ 5  6  7  8]\n",
      " [ 9 10 11 12]\n",
      " [13 14 15 16]]\n"
     ]
    }
   ],
   "source": [
    "m1 = np.array(range(1, 9)).reshape(-1, 4)\n",
    "m2 = np.array(range(9, 17)).reshape(-1, 4)\n",
    "m3 = np.array([1,2,3,4])\n",
    "\n",
    "# print(m1, m2)\n",
    "x = np.concatenate((m1, m2), axis=0)\n",
    "print(m1)\n",
    "print(m2)\n",
    "\n",
    "print(x)"
   ]
  },
  {
   "cell_type": "code",
   "execution_count": 7,
   "metadata": {},
   "outputs": [
    {
     "name": "stdout",
     "output_type": "stream",
     "text": [
      "[[ 6  6  6  6 10]\n",
      " [ 6  6  6  6 10]\n",
      " [ 6  6  6  6 10]\n",
      " [ 6  6  6  6 10]]\n"
     ]
    }
   ],
   "source": [
    "a = np.full((4,4), 6)\n",
    "b = np.full(4, 10)\n",
    "c = np.concatenate((a,b.reshape(-1,1)), axis=1)\n",
    "\n",
    "print(c)"
   ]
  },
  {
   "cell_type": "code",
   "execution_count": 8,
   "metadata": {},
   "outputs": [
    {
     "name": "stdout",
     "output_type": "stream",
     "text": [
      "[[ 3  4  7  8  4  5  9  2]\n",
      " [ 3  4  5  9  4 10  9 10]\n",
      " [ 7  3  4  7  4  3  8  4]\n",
      " [ 3  3  5  7  9  4  9  5]\n",
      " [10  4  9  8  3  3  3  5]\n",
      " [ 4  9  6  6  2 10 10  5]\n",
      " [10  5  4  3  3  6  1  3]\n",
      " [ 4  5  8 10  7  2  4  9]]\n",
      "\n",
      "[[ 3  4  7  8  4  5  9  2]\n",
      " [ 3  4  5  9  4 10  9 10]\n",
      " [ 7  3  4  7  4  3  8  4]]\n",
      "\n",
      "[[ 3  3  5  7  9  4  9  5]\n",
      " [10  4  9  8  3  3  3  5]]\n",
      "\n",
      "[[ 4  9  6  6  2 10 10  5]\n",
      " [10  5  4  3  3  6  1  3]\n",
      " [ 4  5  8 10  7  2  4  9]]\n"
     ]
    }
   ],
   "source": [
    "rand = np.random.randint(1, 11, (8,8))\n",
    "result = np.split(rand, [3, 5])\n",
    "\n",
    "print(rand, *result, sep=\"\\n\\n\")\n",
    "# print(rand)"
   ]
  },
  {
   "cell_type": "code",
   "execution_count": 9,
   "metadata": {},
   "outputs": [
    {
     "name": "stdout",
     "output_type": "stream",
     "text": [
      "[[1 2 3 4]\n",
      " [5 6 7 8]]\n",
      "[[ 9 10]\n",
      " [11 12]\n",
      " [13 14]\n",
      " [15 16]]\n",
      "[[130 140]\n",
      " [322 348]]\n",
      "\n",
      "[[130 140]\n",
      " [322 348]]\n",
      "\n",
      "[[ 59  78  97 116]\n",
      " [ 71  94 117 140]\n",
      " [ 83 110 137 164]\n",
      " [ 95 126 157 188]]\n"
     ]
    }
   ],
   "source": [
    "# Dot Product\n",
    "\n",
    "a = np.array(range(1, 17)).reshape((4,4))\n",
    "a, b = np.split(a, 2)\n",
    "b = b.reshape(-1, 2)\n",
    "print(a)\n",
    "print(b)\n",
    "\n",
    "dot1 = np.dot(a,b)\n",
    "dot2 = a@b\n",
    "dot3 = np.matmul(b,a)\n",
    "\n",
    "\n",
    "print(dot1, dot2, dot3, sep=\"\\n\\n\")"
   ]
  },
  {
   "cell_type": "code",
   "execution_count": 10,
   "metadata": {},
   "outputs": [
    {
     "data": {
      "text/plain": [
       "[<matplotlib.lines.Line2D at 0x24e5ce1e9b0>]"
      ]
     },
     "execution_count": 10,
     "metadata": {},
     "output_type": "execute_result"
    },
    {
     "data": {
      "image/png": "[encoded data removed]",
      "text/plain": [
       "<Figure size 640x480 with 1 Axes>"
      ]
     },
     "metadata": {},
     "output_type": "display_data"
    }
   ],
   "source": [
    "rangeData = np.arange(-4, 4, 0.01)\n",
    "sin = np.sin(rangeData)\n",
    "import matplotlib.pyplot as plt\n",
    "plt.plot(rangeData, sin)"
   ]
  },
  {
   "cell_type": "code",
   "execution_count": 11,
   "metadata": {},
   "outputs": [
    {
     "name": "stdout",
     "output_type": "stream",
     "text": [
      "[[[2 8 8 5]\n",
      "  [5 9 4 4]\n",
      "  [0 4 2 9]\n",
      "  [4 8 2 0]\n",
      "  [5 5 9 3]\n",
      "  [1 2 3 4]]\n",
      "\n",
      " [[1 7 5 2]\n",
      "  [3 8 4 7]\n",
      "  [8 3 3 3]\n",
      "  [6 1 8 7]\n",
      "  [9 8 0 0]\n",
      "  [1 2 3 4]]\n",
      "\n",
      " [[4 5 5 8]\n",
      "  [2 7 5 9]\n",
      "  [7 4 0 3]\n",
      "  [7 2 8 5]\n",
      "  [2 3 6 3]\n",
      "  [1 2 3 4]]]\n"
     ]
    }
   ],
   "source": [
    "rand = np.int16(np.random.random((3,5,4))*10)\n",
    "add_array = np.array([1, 2, 3, 4]*3).reshape((3, 1, 4))\n",
    "# print(rand)\n",
    "\n",
    "# print(add_array[:])\n",
    "result = np.concatenate((rand, add_array), axis=1)\n",
    "print(result)\n"
   ]
  },
  {
   "cell_type": "code",
   "execution_count": 12,
   "metadata": {},
   "outputs": [],
   "source": [
    "# np.save(\"testfile\",result)\n",
    "# resultLoaded = np.load(\"testfile.npy\")\n",
    "# print(resultLoaded)"
   ]
  },
  {
   "cell_type": "code",
   "execution_count": 13,
   "metadata": {},
   "outputs": [
    {
     "name": "stdout",
     "output_type": "stream",
     "text": [
      "[[ 1  4  9 16]\n",
      " [25 36 49 64]]\n",
      "\n",
      "[[1.         1.41421356 1.73205081 2.        ]\n",
      " [2.23606798 2.44948974 2.64575131 2.82842712]]\n",
      "\n",
      "[[  1   8  27  64]\n",
      " [125 216 343 512]]\n",
      "\n",
      "[[1. 2. 3. 4.]\n",
      " [5. 6. 7. 8.]]\n",
      "\n",
      "[[ 1  4  9 16]\n",
      " [25 36 49 64]]\n",
      "\n",
      "25.5\n",
      "\n",
      "20.5\n"
     ]
    }
   ],
   "source": [
    "x = np.arange(1, 9).reshape((2,4))\n",
    "y = np.full((2,4), 3)\n",
    "\n",
    "res1 = np.square(x)\n",
    "res2 = np.sqrt(x)\n",
    "res3 = np.power(x,y)\n",
    "res4 = np.log(np.exp(x))\n",
    "print(res1, res2, res3, res4, sep=\"\\n\\n\", end=\"\\n\\n\")\n",
    "print(res1, np.mean(res1), np.median(res1), sep=\"\\n\\n\")"
   ]
  },
  {
   "cell_type": "code",
   "execution_count": 14,
   "metadata": {},
   "outputs": [
    {
     "name": "stdout",
     "output_type": "stream",
     "text": [
      "[[ 0  4  9 16]\n",
      " [ 0 36 49 64]]\n",
      "[[ 0  4  9 16]\n",
      " [ 0 36 49 64]]\n"
     ]
    }
   ],
   "source": [
    "view = res1.view()\n",
    "view[:,0] = 0\n",
    "print(res1)\n",
    "\n",
    "rev = np.arange(24, 0, -1).reshape(-1, 4, 2)\n",
    "rev.sort(axis=2)\n",
    "print(view)"
   ]
  },
  {
   "cell_type": "code",
   "execution_count": 62,
   "metadata": {},
   "outputs": [
    {
     "name": "stdout",
     "output_type": "stream",
     "text": [
      "[[[ 0  1  2  3  4]\n",
      "  [ 5  6  7  8  9]\n",
      "  [10 11 12 13 14]\n",
      "  [15 16 17 18 19]\n",
      "  [ 0  0  0  0  0]\n",
      "  [ 0  0  0  0  0]]\n",
      "\n",
      " [[20 21 22 23 24]\n",
      "  [25 26 27 28 29]\n",
      "  [30 31 32 33 34]\n",
      "  [35 36 37 38 39]\n",
      "  [ 0  0  0  0  0]\n",
      "  [ 0  0  0  0  0]]\n",
      "\n",
      " [[40 41 42 43 44]\n",
      "  [45 46 47 48 49]\n",
      "  [50 51 52 53 54]\n",
      "  [55 56 57 58 59]\n",
      "  [ 0  0  0  0  0]\n",
      "  [ 0  0  0  0  0]]]\n"
     ]
    }
   ],
   "source": [
    "cube = np.arange(60).reshape((-1,4,5))\n",
    "slice = np.zeros((3,2,5), dtype=int)\n",
    "\n",
    "# table = np.arange(20).reshape(4,5)\n",
    "# col = np.zeros((4,1), dtype=int)\n",
    "# row = np.zeros((1,5), dtype=int)\n",
    "\n",
    "# result = np.concatenate((table, col), axis=1)\n",
    "# result = np.concatenate((table, row), axis=0)\n",
    "# print(cube,slice)\n",
    "# result = np.concatenate((cube, slice), axis=2)\n",
    "print(np.concatenate((cube, slice), axis=1))\n",
    "# print(cube, slice, sep=\"\\n\\n\")\n",
    "# print(\"result:\")\n",
    "# h = cube.copy()\n",
    "# h.resize((2,4,8))\n",
    "# print(h)"
   ]
  }
 ],
 "metadata": {
  "kernelspec": {
   "display_name": "Python 3",
   "language": "python",
   "name": "python3"
  },
  "language_info": {
   "codemirror_mode": {
    "name": "ipython",
    "version": 3
   },
   "file_extension": ".py",
   "mimetype": "text/x-python",
   "name": "python",
   "nbconvert_exporter": "python",
   "pygments_lexer": "ipython3",
   "version": "3.10.5"
  }
 },
 "nbformat": 4,
 "nbformat_minor": 2
}

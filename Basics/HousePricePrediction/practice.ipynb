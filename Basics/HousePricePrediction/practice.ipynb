{
 "cells": [
  {
   "cell_type": "code",
   "execution_count": 1,
   "metadata": {},
   "outputs": [],
   "source": [
    "from sklearn.linear_model import LinearRegression, Lasso, Ridge\n",
    "from sklearn.model_selection import train_test_split\n",
    "from sklearn.datasets import make_regression\n",
    "from sklearn.metrics import mean_absolute_error, mean_squared_error\n",
    "\n",
    "import numpy as np\n",
    "import matplotlib.pyplot as plt"
   ]
  },
  {
   "cell_type": "code",
   "execution_count": 2,
   "metadata": {},
   "outputs": [],
   "source": [
    "# set a random seed for reproducibility\n",
    "rs = np.random.RandomState(123)\n",
    "\n",
    "# create a dataset of X, y pairs\n",
    "n = 1000                   # number of samples\n",
    "p = 10                     # number of features\n",
    "noise = 0.4                # add noise to the data\n",
    "nmb_informative=p//2       # how many of the p feature are actually useful for prediction\n",
    "\n",
    "X, y = make_regression(n, p, \n",
    "                       noise=noise, \n",
    "                       n_informative=nmb_informative, \n",
    "                       random_state=rs)\n",
    "\n",
    "# split into training data and test data\n",
    "train_prop = 0.7           # proportion of data in train\n",
    "\n",
    "X_train, X_test, y_train, y_test = train_test_split(X, y, random_state=rs)\n",
    "\n",
    "m_linearReg = LinearRegression().fit(X_train, y_train)\n",
    "m_lasso = Lasso().fit(X_train, y_train)\n",
    "m_ridge = Ridge().fit(X_train, y_train)\n",
    "\n",
    "# compute predictions of each model on the train data\n",
    "ypred_train_linearReg = m_linearReg.predict(X_train)\n",
    "ypred_train_lasso = m_lasso.predict(X_train)\n",
    "ypred_train_ridge = m_ridge.predict(X_train)\n",
    "\n",
    "# compute predictions of each model on the test data\n",
    "ypred_test_linearReg = m_linearReg.predict(X_test)\n",
    "ypred_test_lasso = m_lasso.predict(X_test)\n",
    "ypred_test_ridge = m_ridge.predict(X_test)"
   ]
  }
 ],
 "metadata": {
  "kernelspec": {
   "display_name": "Python 3",
   "language": "python",
   "name": "python3"
  },
  "language_info": {
   "codemirror_mode": {
    "name": "ipython",
    "version": 3
   },
   "file_extension": ".py",
   "mimetype": "text/x-python",
   "name": "python",
   "nbconvert_exporter": "python",
   "pygments_lexer": "ipython3",
   "version": "3.10.5"
  }
 },
 "nbformat": 4,
 "nbformat_minor": 2
}

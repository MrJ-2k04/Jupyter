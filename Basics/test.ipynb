{
 "cells": [
  {
   "cell_type": "code",
   "execution_count": 2,
   "metadata": {},
   "outputs": [],
   "source": [
    "import numpy as np\n",
    "\n",
    "a = np.array([1,2,3,4])                               # 1 dim array\n",
    "b = np.zeros(4)                                       # 1 dim array of zeroes\n",
    "c = np.zeros(shape=(3,3))                             # 2 dim array of zeroes with shape (3,3)\n",
    "d = np.ones(shape=(2,5,4))                            # 3 dim array of ones with shape (2,5)\n",
    "e = np.eye(20)                                        # 2 dim array with shape (20,20) (identity matrix)\n",
    "f = np.array([[1,0,2], [2,3,6]])                      # 2 dim array with shape(2,3)\n",
    "g = np.random.randint(low=-3, high=25, size=(3,7))    # 2 dim array with shape(3,7) populated with random integers\n",
    "h = np.empty(shape=(10,4))"
   ]
  },
  {
   "cell_type": "code",
   "execution_count": 3,
   "metadata": {},
   "outputs": [
    {
     "name": "stdout",
     "output_type": "stream",
     "text": [
      "[[[1 8]\n",
      "  [8 1]\n",
      "  [1 8]\n",
      "  [3 8]\n",
      "  [3 7]]\n",
      "\n",
      " [[2 8]\n",
      "  [6 2]\n",
      "  [2 8]\n",
      "  [7 5]\n",
      "  [6 4]]]\n"
     ]
    }
   ],
   "source": [
    "rand  = np.random.randint(1, 10, (4, 5))\n",
    "rand = rand.reshape(2, 5, 2)\n",
    "print(rand)\n",
    "\n"
   ]
  },
  {
   "cell_type": "code",
   "execution_count": 4,
   "metadata": {},
   "outputs": [
    {
     "name": "stdout",
     "output_type": "stream",
     "text": [
      "[[ 3 16]\n",
      " [14  3]\n",
      " [ 3 16]\n",
      " [10 13]\n",
      " [ 9 11]]\n"
     ]
    }
   ],
   "source": [
    "m = rand.sum(axis=0)\n",
    "print(m)"
   ]
  },
  {
   "cell_type": "code",
   "execution_count": 5,
   "metadata": {},
   "outputs": [
    {
     "name": "stdout",
     "output_type": "stream",
     "text": [
      "[[1. 0. 0. 0. 0.]\n",
      " [0. 1. 0. 0. 0.]\n",
      " [0. 0. 1. 0. 0.]\n",
      " [0. 0. 0. 1. 0.]\n",
      " [0. 0. 0. 0. 1.]]\n"
     ]
    }
   ],
   "source": [
    "eye = np.eye(5)\n",
    "print(eye)"
   ]
  },
  {
   "cell_type": "code",
   "execution_count": 6,
   "metadata": {},
   "outputs": [
    {
     "name": "stdout",
     "output_type": "stream",
     "text": [
      "[[1 2 3 4]\n",
      " [5 6 7 8]]\n",
      "[[ 9 10 11 12]\n",
      " [13 14 15 16]]\n",
      "[[ 1  2  3  4]\n",
      " [ 5  6  7  8]\n",
      " [ 9 10 11 12]\n",
      " [13 14 15 16]]\n"
     ]
    }
   ],
   "source": [
    "m1 = np.array(range(1, 9)).reshape(-1, 4)\n",
    "m2 = np.array(range(9, 17)).reshape(-1, 4)\n",
    "m3 = np.array([1,2,3,4])\n",
    "\n",
    "# print(m1, m2)\n",
    "x = np.concatenate((m1, m2), axis=0)\n",
    "print(m1)\n",
    "print(m2)\n",
    "\n",
    "print(x)"
   ]
  },
  {
   "cell_type": "code",
   "execution_count": 33,
   "metadata": {},
   "outputs": [
    {
     "name": "stdout",
     "output_type": "stream",
     "text": [
      "[[ 6  6  6  6 10]\n",
      " [ 6  6  6  6 10]\n",
      " [ 6  6  6  6 10]\n",
      " [ 6  6  6  6 10]]\n"
     ]
    }
   ],
   "source": [
    "a = np.full((4,4), 6)\n",
    "b = np.full(4, 10)\n",
    "c = np.concatenate((a,b.reshape(-1,1)), axis=1)\n",
    "\n",
    "print(c)"
   ]
  },
  {
   "cell_type": "code",
   "execution_count": 98,
   "metadata": {},
   "outputs": [
    {
     "name": "stdout",
     "output_type": "stream",
     "text": [
      "[[ 3  3  4  1  3  2  6 10]\n",
      " [ 4  3  2  3  9 10  7  7]\n",
      " [ 9  3  3  8 10  3  5 10]\n",
      " [ 4  8  7  6  9 10  5 10]\n",
      " [ 6  8  3  1  6  3  6  3]\n",
      " [ 8  8 10  3  5  4  3  9]\n",
      " [ 4  4  9  3  1  9  3 10]\n",
      " [ 5  3 10  6  9  6  2  1]]\n",
      "\n",
      "[[ 3  3  4  1  3  2  6 10]\n",
      " [ 4  3  2  3  9 10  7  7]\n",
      " [ 9  3  3  8 10  3  5 10]]\n",
      "\n",
      "[[ 4  8  7  6  9 10  5 10]\n",
      " [ 6  8  3  1  6  3  6  3]]\n",
      "\n",
      "[[ 8  8 10  3  5  4  3  9]\n",
      " [ 4  4  9  3  1  9  3 10]\n",
      " [ 5  3 10  6  9  6  2  1]]\n"
     ]
    }
   ],
   "source": [
    "rand = np.random.randint(1, 11, (8,8))\n",
    "result = np.split(rand, [3, 5])\n",
    "\n",
    "print(rand, *result, sep=\"\\n\\n\")\n",
    "# print(rand)"
   ]
  },
  {
   "cell_type": "code",
   "execution_count": 126,
   "metadata": {},
   "outputs": [
    {
     "name": "stdout",
     "output_type": "stream",
     "text": [
      "[[1 2 3 4]\n",
      " [5 6 7 8]]\n",
      "[[ 9 10]\n",
      " [11 12]\n",
      " [13 14]\n",
      " [15 16]]\n",
      "[[130 140]\n",
      " [322 348]]\n",
      "\n",
      "[[130 140]\n",
      " [322 348]]\n",
      "\n",
      "[[ 59  78  97 116]\n",
      " [ 71  94 117 140]\n",
      " [ 83 110 137 164]\n",
      " [ 95 126 157 188]]\n"
     ]
    }
   ],
   "source": [
    "# Dot Product\n",
    "\n",
    "a = np.array(range(1, 17)).reshape((4,4))\n",
    "a, b = np.split(a, 2)\n",
    "b = b.reshape(-1, 2)\n",
    "print(a)\n",
    "print(b)\n",
    "\n",
    "dot1 = np.dot(a,b)\n",
    "dot2 = a@b\n",
    "dot3 = np.matmul(b,a)\n",
    "\n",
    "\n",
    "print(dot1, dot2, dot3, sep=\"\\n\\n\")"
   ]
  },
  {
   "cell_type": "code",
   "execution_count": null,
   "metadata": {},
   "outputs": [],
   "source": []
  }
 ],
 "metadata": {
  "kernelspec": {
   "display_name": "Python 3",
   "language": "python",
   "name": "python3"
  },
  "language_info": {
   "codemirror_mode": {
    "name": "ipython",
    "version": 3
   },
   "file_extension": ".py",
   "mimetype": "text/x-python",
   "name": "python",
   "nbconvert_exporter": "python",
   "pygments_lexer": "ipython3",
   "version": "3.10.5"
  }
 },
 "nbformat": 4,
 "nbformat_minor": 2
}
